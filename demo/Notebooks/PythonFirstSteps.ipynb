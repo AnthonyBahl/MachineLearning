{
 "cells": [
  {
   "cell_type": "markdown",
   "id": "01693ece",
   "metadata": {},
   "source": [
    "# Learning\n",
    "\n",
    "This notebook contains some simple examples of using  *Jupyter Notebook* and *Python3*"
   ]
  },
  {
   "cell_type": "markdown",
   "id": "fbc219af",
   "metadata": {},
   "source": [
    "## Example 1: Hello, World"
   ]
  },
  {
   "cell_type": "code",
   "execution_count": 1,
   "id": "7e609e85",
   "metadata": {},
   "outputs": [
    {
     "name": "stdout",
     "output_type": "stream",
     "text": [
      "Hello, Anthony\n",
      "\n"
     ]
    }
   ],
   "source": [
    "my_name = \"Anthony\"\n",
    "hello_statement = \"Hello, \" + my_name\n",
    "print(hello_statement, end=\"\\n\\n\")\n",
    "x=10"
   ]
  },
  {
   "cell_type": "markdown",
   "id": "ccd280bc",
   "metadata": {},
   "source": [
    "## Example2: World's *best* loop is here"
   ]
  },
  {
   "cell_type": "code",
   "execution_count": 2,
   "id": "88cceb98",
   "metadata": {},
   "outputs": [
    {
     "name": "stdout",
     "output_type": "stream",
     "text": [
      "j=1 x=11\n",
      "j=2 x=13\n",
      "j=3 x=16\n",
      "j=4 x=20\n"
     ]
    }
   ],
   "source": [
    "for j in range(1, 5):\n",
    "    x = x + j\n",
    "    print(\"j={0} x={1}\".format(j, x))"
   ]
  },
  {
   "cell_type": "code",
   "execution_count": null,
   "id": "9228d51a",
   "metadata": {},
   "outputs": [],
   "source": []
  }
 ],
 "metadata": {
  "kernelspec": {
   "display_name": "Python 3 (ipykernel)",
   "language": "python",
   "name": "python3"
  },
  "language_info": {
   "codemirror_mode": {
    "name": "ipython",
    "version": 3
   },
   "file_extension": ".py",
   "mimetype": "text/x-python",
   "name": "python",
   "nbconvert_exporter": "python",
   "pygments_lexer": "ipython3",
   "version": "3.9.13"
  }
 },
 "nbformat": 4,
 "nbformat_minor": 5
}
